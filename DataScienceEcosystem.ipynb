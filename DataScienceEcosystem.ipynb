{
  "metadata": {
    "kernelspec": {
      "name": "python",
      "display_name": "Python (Pyodide)",
      "language": "python"
    },
    "language_info": {
      "codemirror_mode": {
        "name": "python",
        "version": 3
      },
      "file_extension": ".py",
      "mimetype": "text/x-python",
      "name": "python",
      "nbconvert_exporter": "python",
      "pygments_lexer": "ipython3",
      "version": "3.8"
    }
  },
  "nbformat_minor": 4,
  "nbformat": 4,
  "cells": [
    {
      "cell_type": "markdown",
      "source": "# Data Science Tools and Ecosystem",
      "metadata": {}
    },
    {
      "cell_type": "markdown",
      "source": "Neste notebook, as Ferramentas e Ecossistema de Ciência de Dados são resumidos.",
      "metadata": {}
    },
    {
      "cell_type": "markdown",
      "source": "_Objetivos:_\n- Listar linguagens populares para Ciência de Dados\n- Listar bibliotecas populares para Ciência de Dados\n- Construir uma tabela com as ferramentas populares para Ciência de Dados\n- Resolver expressões aritméticas em Python",
      "metadata": {}
    },
    {
      "cell_type": "markdown",
      "source": "Algumas das linguagens populares que os Cientistas de Dados usam são:\n1. Python\n2. R\n3. SQL\n4. Julia",
      "metadata": {}
    },
    {
      "cell_type": "markdown",
      "source": "Algumas das bibliotecas comumente usadas por Cientistas de Dados incluem:\n1. Pandas\n2. NumPy\n3. Matplotlib\n4. Scikit-learn",
      "metadata": {}
    },
    {
      "cell_type": "markdown",
      "source": "| Ferramentas de Ciência de Dados |\n| --------------------------------|\n| Jupyter IDE | \n| Rstudio | \n| Microsoft Visual Studio|",
      "metadata": {}
    },
    {
      "cell_type": "markdown",
      "source": "### Abaixo estão alguns exemplos de avaliação de expressões aritméticas em Python",
      "metadata": {}
    },
    {
      "cell_type": "code",
      "source": "# Esta é uma expressão aritmética simples para multiplicar e depois adicionar inteiros\n(3*4)+5",
      "metadata": {
        "trusted": true
      },
      "outputs": [
        {
          "execution_count": 3,
          "output_type": "execute_result",
          "data": {
            "text/plain": "17"
          },
          "metadata": {}
        }
      ],
      "execution_count": 3
    },
    {
      "cell_type": "code",
      "source": "# Isso converterá 200 minutos em horas dividindo por 60\n200/60",
      "metadata": {
        "trusted": true
      },
      "outputs": [
        {
          "execution_count": 4,
          "output_type": "execute_result",
          "data": {
            "text/plain": "3.3333333333333335"
          },
          "metadata": {}
        }
      ],
      "execution_count": 4
    },
    {
      "cell_type": "markdown",
      "source": "## Autor\nUmberto Sansoni Junior",
      "metadata": {}
    },
    {
      "cell_type": "code",
      "source": "",
      "metadata": {
        "trusted": true
      },
      "outputs": [],
      "execution_count": null
    }
  ]
}